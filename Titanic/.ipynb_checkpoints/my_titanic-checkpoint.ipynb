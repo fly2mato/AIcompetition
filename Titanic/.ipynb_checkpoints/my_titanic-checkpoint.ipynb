{
 "cells": [
  {
   "cell_type": "code",
   "execution_count": 1,
   "metadata": {},
   "outputs": [],
   "source": [
    "# data analysis and wrangling\n",
    "import pandas as pd\n",
    "import numpy as np\n",
    "from pandas import Series, DataFrame\n",
    "import random as rnd\n",
    "\n",
    "# visualization\n",
    "import seaborn as sns\n",
    "import matplotlib.pyplot as plt\n",
    "%matplotlib inline\n",
    "\n",
    "# machine learning\n",
    "#from sklearn.linear_model import LogisticRegression\n",
    "#from sklearn.svm import SVC, LinearSVC\n",
    "#from sklearn.ensemble import RandomForestClassifier\n",
    "#from sklearn.neighbors import KNeighborsClassifier\n",
    "#from sklearn.naive_bayes import GaussianNB\n",
    "#from sklearn.linear_model import Perceptron\n",
    "#from sklearn.linear_model import SGDClassifier\n",
    "#from sklearn.tree import DecisionTreeClassifier"
   ]
  },
  {
   "cell_type": "code",
   "execution_count": 2,
   "metadata": {},
   "outputs": [],
   "source": [
    "train_df = pd.read_csv(\"train.csv\")\n",
    "test_df = pd.read_csv('test.csv')\n",
    "#test_df_org = test_df\n",
    "#test_df_org['Survived'] = 0"
   ]
  },
  {
   "cell_type": "code",
   "execution_count": 3,
   "metadata": {},
   "outputs": [
    {
     "name": "stdout",
     "output_type": "stream",
     "text": [
      "<class 'pandas.core.frame.DataFrame'>\n",
      "RangeIndex: 891 entries, 0 to 890\n",
      "Data columns (total 12 columns):\n",
      "PassengerId    891 non-null int64\n",
      "Survived       891 non-null int64\n",
      "Pclass         891 non-null int64\n",
      "Name           891 non-null object\n",
      "Sex            891 non-null object\n",
      "Age            714 non-null float64\n",
      "SibSp          891 non-null int64\n",
      "Parch          891 non-null int64\n",
      "Ticket         891 non-null object\n",
      "Fare           891 non-null float64\n",
      "Cabin          204 non-null object\n",
      "Embarked       889 non-null object\n",
      "dtypes: float64(2), int64(5), object(5)\n",
      "memory usage: 83.6+ KB\n",
      "-----\n",
      "<class 'pandas.core.frame.DataFrame'>\n",
      "RangeIndex: 418 entries, 0 to 417\n",
      "Data columns (total 11 columns):\n",
      "PassengerId    418 non-null int64\n",
      "Pclass         418 non-null int64\n",
      "Name           418 non-null object\n",
      "Sex            418 non-null object\n",
      "Age            332 non-null float64\n",
      "SibSp          418 non-null int64\n",
      "Parch          418 non-null int64\n",
      "Ticket         418 non-null object\n",
      "Fare           417 non-null float64\n",
      "Cabin          91 non-null object\n",
      "Embarked       418 non-null object\n",
      "dtypes: float64(2), int64(4), object(5)\n",
      "memory usage: 36.0+ KB\n"
     ]
    }
   ],
   "source": [
    "train_df.info()\n",
    "print('-'*5)\n",
    "test_df.info()"
   ]
  },
  {
   "cell_type": "code",
   "execution_count": 4,
   "metadata": {},
   "outputs": [],
   "source": [
    "#数据处理及缺失值补充\n",
    "#Fare in train\n",
    "#train_df.loc[train_df.Cabin.notnull(), 'Fare'] /= [len(x.split(' ')) for x in train_df.Cabin[train_df.Cabin.notnull()]]\n",
    "#Fare in test\n",
    "#test_df.loc[test_df.Cabin.notnull(), 'Fare'] /= [len(x.split(' ')) for x in test_df.Cabin[test_df.Cabin.notnull()]]\n",
    "#test_df.loc[test_df.Fare.isnull(), 'Fare'] = test_df.Fare[test_df.Cabin.notnull()].mean()"
   ]
  },
  {
   "cell_type": "code",
   "execution_count": 5,
   "metadata": {},
   "outputs": [],
   "source": [
    "train_test_df = train_df.append(test_df, sort=False)\n",
    "PassengerId = test_df['PassengerId']"
   ]
  },
  {
   "cell_type": "code",
   "execution_count": 6,
   "metadata": {},
   "outputs": [],
   "source": [
    "#train_test_df['Cabin_num'] = [len(x.split(' ')) for x in train_test_df.Cabin] #[train_test_df.Cabin.notnull()]]\n",
    "#train_test_df.loc[train_test_df.Cabin.notnull(), 'Fare'] /= [len(x.split(' ')) for x in train_test_df.Cabin[train_test_df.Cabin.notnull()]]\n",
    "train_test_df.loc[train_test_df.Fare.isnull(), 'Fare'] = train_test_df.Fare[train_test_df.Cabin.notnull()].mean()"
   ]
  },
  {
   "cell_type": "code",
   "execution_count": 7,
   "metadata": {},
   "outputs": [],
   "source": [
    "#Name 处理为Title\n",
    "a = pd.DataFrame(train_test_df.Name.str.extract('(?P<title>[A-Za-z]+)\\.'))#, expand=False)\n",
    "\n",
    "title_Dict = {}\n",
    "title_Dict.update(dict.fromkeys(['Capt', 'Col', 'Major', 'Dr', 'Rev'], 'Officer'))\n",
    "title_Dict.update(dict.fromkeys(['Don', 'Sir', 'the Countess', 'Dona', 'Lady'], 'Royalty'))\n",
    "title_Dict.update(dict.fromkeys(['Mme', 'Ms', 'Mrs'], 'Mrs'))\n",
    "title_Dict.update(dict.fromkeys(['Mlle', 'Miss'], 'Miss'))\n",
    "title_Dict.update(dict.fromkeys(['Mr'], 'Mr'))\n",
    "title_Dict.update(dict.fromkeys(['Master','Jonkheer'], 'Master'))\n",
    "\n",
    "title_dummies_df = pd.get_dummies(a.title.map(title_Dict), prefix='title_')\n",
    "train_test_df = pd.concat([train_test_df, title_dummies_df], axis=1)"
   ]
  },
  {
   "cell_type": "code",
   "execution_count": 8,
   "metadata": {},
   "outputs": [],
   "source": [
    "#Age\n",
    "from sklearn.ensemble import RandomForestRegressor\n",
    "\n",
    "### 使用 RandomForestClassifier 填补缺失的年龄属性\n",
    "def set_missing_ages(df):\n",
    "\n",
    "    # 把已有的数值型特征取出来丢进Random Forest Regressor中\n",
    "    age_df = df.filter(regex='Age|title_.*|Fare|Parch|SibSp|Pclass')\n",
    "    # 乘客分成已知年龄和未知年龄两部分\n",
    "    known_age = age_df[age_df.Age.notnull()]\n",
    "    unknown_age = age_df[age_df.Age.isnull()]\n",
    "\n",
    "    # y即目标年龄\n",
    "    y = known_age.Age.values\n",
    "\n",
    "    # X即特征属性值\n",
    "    X = known_age.drop(columns='Age').values\n",
    "    \n",
    "    # fit到RandomForestRegressor之中\n",
    "    rfr = RandomForestRegressor(random_state=0, n_estimators=2000, n_jobs=-1)\n",
    "    rfr.fit(X, y)\n",
    "\n",
    "    # 用得到的模型进行未知年龄结果预测\n",
    "    predictedAges = rfr.predict(unknown_age.drop(columns='Age').values)\n",
    "    \n",
    "    # 用得到的预测结果填补原缺失数据\n",
    "    df.loc[ (df.Age.isnull()), 'Age' ] = predictedAges \n",
    "\n",
    "    return df, rfr\n",
    "\n",
    "def set_Cabin_type(df):\n",
    "    df.loc[ (df.Cabin.notnull()), 'Cabin' ] = \"Yes\"\n",
    "    df.loc[ (df.Cabin.isnull()), 'Cabin' ] = \"No\"\n",
    "    return df\n",
    "\n",
    "train_test_df, rfr = set_missing_ages(train_test_df)\n",
    "\n",
    "#Age: bin & dummies\n",
    "train_test_df['Age_bin'] = pd.cut(train_test_df['Age'], 10)\n",
    "age_bin_dummies_df = pd.get_dummies(train_test_df['Age_bin'], prefix='Age_')\n",
    "train_test_df = pd.concat([train_test_df, age_bin_dummies_df], axis=1).drop(columns='Age_bin')\n",
    "\n",
    "#Cabin\n",
    "train_test_df = set_Cabin_type(train_test_df)"
   ]
  },
  {
   "cell_type": "code",
   "execution_count": 9,
   "metadata": {},
   "outputs": [],
   "source": [
    "#Pclass, Sex, Embarked  : dummies\n",
    "dummies_Pclass = pd.get_dummies(train_test_df['Pclass'], prefix='Pclass')\n",
    "dummies_Sex = pd.get_dummies(train_test_df['Sex'], prefix= 'Sex')\n",
    "dummies_Embarked = pd.get_dummies(train_test_df['Embarked'], prefix= 'Embarked')\n",
    "dummies_Cabin = pd.get_dummies(train_test_df['Cabin'], prefix='Cabin')\n",
    "\n",
    "train_test_df = pd.concat([train_test_df, dummies_Pclass, dummies_Sex, dummies_Embarked, dummies_Cabin], axis=1)\n",
    "train_test_df.drop(columns=['Pclass', 'Sex', 'Embarked', 'Cabin'], inplace=True)\n",
    "\n",
    "# add child\n",
    "train_test_df['child'] = (train_test_df.Age < 12) + 0\n",
    "\n",
    "# add mother\n",
    "train_test_df['mother'] = ((train_test_df.title__Mrs==1 + (train_test_df.Parch > 1)) > 0 ) + 0\n",
    "\n",
    "# add family size\n",
    "train_test_df['family'] = train_test_df.Parch + train_test_df.SibSp"
   ]
  },
  {
   "cell_type": "code",
   "execution_count": 10,
   "metadata": {},
   "outputs": [],
   "source": [
    "#scale\n",
    "import sklearn.preprocessing as preprocessing\n",
    "scaler = preprocessing.StandardScaler()\n",
    "\n",
    "#age_scale_param = scaler.fit(df['Age'])\n",
    "#df['Age_scaled'] = scaler.fit_transform(df['Age'], age_scale_param)\n",
    "\n",
    "train_test_df['Fare'] = scaler.fit_transform(train_test_df[['Fare']], scaler.fit(train_test_df[['Fare']]))\n",
    "train_test_df['family'] = scaler.fit_transform(train_test_df[['family']], scaler.fit(train_test_df[['family']]))\n"
   ]
  },
  {
   "cell_type": "code",
   "execution_count": 11,
   "metadata": {},
   "outputs": [
    {
     "name": "stdout",
     "output_type": "stream",
     "text": [
      "<class 'pandas.core.frame.DataFrame'>\n",
      "Int64Index: 1309 entries, 0 to 417\n",
      "Data columns (total 33 columns):\n",
      "Survived                 891 non-null float64\n",
      "SibSp                    1309 non-null int64\n",
      "Parch                    1309 non-null int64\n",
      "Fare                     1309 non-null float64\n",
      "title__Master            1309 non-null uint8\n",
      "title__Miss              1309 non-null uint8\n",
      "title__Mr                1309 non-null uint8\n",
      "title__Mrs               1309 non-null uint8\n",
      "title__Officer           1309 non-null uint8\n",
      "title__Royalty           1309 non-null uint8\n",
      "Age__(0.0902, 8.153]     1309 non-null uint8\n",
      "Age__(8.153, 16.136]     1309 non-null uint8\n",
      "Age__(16.136, 24.119]    1309 non-null uint8\n",
      "Age__(24.119, 32.102]    1309 non-null uint8\n",
      "Age__(32.102, 40.085]    1309 non-null uint8\n",
      "Age__(40.085, 48.068]    1309 non-null uint8\n",
      "Age__(48.068, 56.051]    1309 non-null uint8\n",
      "Age__(56.051, 64.034]    1309 non-null uint8\n",
      "Age__(64.034, 72.017]    1309 non-null uint8\n",
      "Age__(72.017, 80.0]      1309 non-null uint8\n",
      "Pclass_1                 1309 non-null uint8\n",
      "Pclass_2                 1309 non-null uint8\n",
      "Pclass_3                 1309 non-null uint8\n",
      "Sex_female               1309 non-null uint8\n",
      "Sex_male                 1309 non-null uint8\n",
      "Embarked_C               1309 non-null uint8\n",
      "Embarked_Q               1309 non-null uint8\n",
      "Embarked_S               1309 non-null uint8\n",
      "Cabin_No                 1309 non-null uint8\n",
      "Cabin_Yes                1309 non-null uint8\n",
      "child                    1309 non-null int64\n",
      "mother                   1309 non-null int64\n",
      "family                   1309 non-null float64\n",
      "dtypes: float64(3), int64(4), uint8(26)\n",
      "memory usage: 115.0 KB\n"
     ]
    }
   ],
   "source": [
    "train_test_df.drop(columns=['Name','Age','Ticket','PassengerId'], inplace=True)\n",
    "train_test_df.info()"
   ]
  },
  {
   "cell_type": "code",
   "execution_count": 12,
   "metadata": {},
   "outputs": [],
   "source": [
    "train_df_clean = train_test_df.iloc[0:891,:]\n",
    "test_df_clean = train_test_df.iloc[891::,:]"
   ]
  },
  {
   "cell_type": "code",
   "execution_count": 13,
   "metadata": {},
   "outputs": [
    {
     "data": {
      "text/plain": [
       "array([ 0.83798883,  0.81564246,  0.80337079,  0.80898876,  0.8700565 ])"
      ]
     },
     "execution_count": 13,
     "metadata": {},
     "output_type": "execute_result"
    }
   ],
   "source": [
    "from sklearn import linear_model\n",
    "from sklearn import model_selection\n",
    "\n",
    "clf = linear_model.LogisticRegression(C=1.0, penalty='l1', tol=1e-6)\n",
    "X = train_df_clean.drop(columns='Survived').values\n",
    "y = train_df_clean.Survived.values\n",
    "model_selection.cross_val_score(clf, X, y, cv=5)"
   ]
  },
  {
   "cell_type": "code",
   "execution_count": 14,
   "metadata": {},
   "outputs": [],
   "source": [
    "#learning curve\n",
    "from sklearn.model_selection import learning_curve\n",
    "\n",
    "def plot_learning_curv(estimator, title, X, y, ylim=None, cv=None, n_jobs=1,\n",
    "                      train_sizes=np.linspace(.05, 1., 20), verbose=0, plot=True):\n",
    "    \n",
    "    train_size, train_scores, test_scores = learning_curve(estimator, X, y, cv=cv, n_jobs=n_jobs, train_sizes=train_sizes, verbose=verbose)\n",
    "    \n",
    "    print(train_scores)\n",
    "    \n",
    "    train_scores_mean = np.mean(train_scores, axis=1)\n",
    "    train_scores_std = np.std(train_scores, axis=1)\n",
    "    test_scores_mean = np.mean(test_scores, axis=1)\n",
    "    test_scores_std = np.std(test_scores, axis=1)\n",
    "\n",
    "    if plot:\n",
    "        plt.figure()\n",
    "        plt.title(title)\n",
    "        if ylim is not None:\n",
    "            plt.ylim(*ylim)\n",
    "        plt.xlabel(u\"训练样本数\")\n",
    "        plt.ylabel(u\"得分\")\n",
    "        #plt.gca().invert_yaxis()\n",
    "        plt.grid()\n",
    "\n",
    "        plt.fill_between(train_sizes, train_scores_mean - train_scores_std, train_scores_mean + train_scores_std, \n",
    "                         alpha=0.1, color=\"b\")\n",
    "        plt.fill_between(train_sizes, test_scores_mean - test_scores_std, test_scores_mean + test_scores_std, \n",
    "                         alpha=0.1, color=\"r\")\n",
    "        plt.plot(train_sizes, train_scores_mean, 'o-', color=\"b\", label=u\"训练集上得分\")\n",
    "        plt.plot(train_sizes, test_scores_mean, 'o-', color=\"r\", label=u\"交叉验证集上得分\")\n",
    "\n",
    "        plt.legend(loc=\"best\")\n",
    "\n",
    "        plt.draw()\n",
    "        plt.show()\n",
    "        #plt.gca().invert_yaxis()\n",
    "\n",
    "    midpoint = ((train_scores_mean[-1] + train_scores_std[-1]) + (test_scores_mean[-1] - test_scores_std[-1])) / 2\n",
    "    diff = (train_scores_mean[-1] + train_scores_std[-1]) - (test_scores_mean[-1] - test_scores_std[-1])\n",
    "    return midpoint, diff"
   ]
  },
  {
   "cell_type": "code",
   "execution_count": 15,
   "metadata": {},
   "outputs": [
    {
     "name": "stdout",
     "output_type": "stream",
     "text": [
      "[[ 0.85714286  0.88571429  0.88571429  0.88571429  0.88571429]\n",
      " [ 0.88732394  0.87323944  0.87323944  0.87323944  0.87323944]\n",
      " [ 0.82075472  0.8490566   0.8490566   0.8490566   0.8490566 ]\n",
      " [ 0.8028169   0.83098592  0.83098592  0.83098592  0.83098592]\n",
      " [ 0.80898876  0.85393258  0.85393258  0.85393258  0.85393258]\n",
      " [ 0.81690141  0.8685446   0.84507042  0.84507042  0.84507042]\n",
      " [ 0.81526104  0.85542169  0.83935743  0.83935743  0.83935743]\n",
      " [ 0.81338028  0.84507042  0.8415493   0.8415493   0.8415493 ]\n",
      " [ 0.825       0.846875    0.821875    0.821875    0.821875  ]\n",
      " [ 0.82535211  0.84507042  0.83943662  0.83943662  0.83943662]\n",
      " [ 0.8286445   0.83375959  0.83887468  0.84910486  0.84910486]\n",
      " [ 0.82435597  0.84074941  0.82903981  0.83840749  0.83840749]\n",
      " [ 0.82251082  0.84415584  0.83116883  0.83333333  0.83333333]\n",
      " [ 0.82128514  0.83333333  0.83333333  0.8373494   0.8373494 ]\n",
      " [ 0.82022472  0.84082397  0.82397004  0.83146067  0.83895131]\n",
      " [ 0.82601054  0.8400703   0.82601054  0.83128295  0.83304042]\n",
      " [ 0.82809917  0.84958678  0.82975207  0.83966942  0.82975207]\n",
      " [ 0.83125     0.8453125   0.8359375   0.8421875   0.83125   ]\n",
      " [ 0.83431953  0.84467456  0.83431953  0.8387574   0.83136095]\n",
      " [ 0.83567416  0.85252809  0.83707865  0.83707865  0.83286517]]\n"
     ]
    },
    {
     "data": {
      "image/png": "[encoded data removed]",
      "text/plain": [
       "<matplotlib.figure.Figure at 0x7fa25d2a0908>"
      ]
     },
     "metadata": {},
     "output_type": "display_data"
    },
    {
     "data": {
      "text/plain": [
       "(0.82436554433410492, 0.043188612034139595)"
      ]
     },
     "execution_count": 15,
     "metadata": {},
     "output_type": "execute_result"
    }
   ],
   "source": [
    "plot_learning_curv(clf, u\"学习曲线\", X, y, cv=5)"
   ]
  },
  {
   "cell_type": "code",
   "execution_count": 16,
   "metadata": {},
   "outputs": [],
   "source": [
    "clf.fit(X,y)\n",
    "predictions = clf.predict(test_df_clean.drop(columns='Survived'))\n",
    "\n",
    "result = pd.DataFrame({'PassengerId':PassengerId.values, 'Survived':predictions.astype(np.int32)})\n",
    "result.to_csv(\"./my_predictions.csv\", index=False)"
   ]
  },
  {
   "cell_type": "code",
   "execution_count": 17,
   "metadata": {},
   "outputs": [],
   "source": [
    "from sklearn.ensemble import BaggingRegressor\n",
    "\n",
    "# fit到BaggingRegressor之中\n",
    "clf = linear_model.LogisticRegression(C=1.0, penalty='l1', tol=1e-6)\n",
    "bagging_clf = BaggingRegressor(clf, n_estimators=20, max_samples=0.8, max_features=1.0, bootstrap=True, bootstrap_features=False, n_jobs=-1)\n",
    "bagging_clf.fit(X, y)\n",
    "\n",
    "predictions = bagging_clf.predict(test_df_clean.drop(columns='Survived'))\n",
    "result = pd.DataFrame({'PassengerId':PassengerId.values, 'Survived':predictions.astype(np.int32)})\n",
    "result.to_csv(\"./my_bagging_predictions.csv\", index=False)"
   ]
  },
  {
   "cell_type": "code",
   "execution_count": 10,
   "metadata": {},
   "outputs": [],
   "source": [
    "ptable = (train_df.pivot_table(index = 'title', aggfunc='mean')).Age.to_dict()\n",
    "a = train_df.copy()\n",
    "a.loc[a.Age.isnull(),'Age'] = a[a.Age.isnull()].title.map(ptable)\n",
    "#a.info()\n",
    "a.filter(regex='Age_.*')"
   ]
  },
  {
   "cell_type": "code",
   "execution_count": 21,
   "metadata": {},
   "outputs": [
    {
     "name": "stdout",
     "output_type": "stream",
     "text": [
      "<class 'pandas.core.frame.DataFrame'>\n",
      "Int64Index: 891 entries, 0 to 890\n",
      "Data columns (total 33 columns):\n",
      "Survived                 891 non-null float64\n",
      "SibSp                    891 non-null int64\n",
      "Parch                    891 non-null int64\n",
      "Fare                     891 non-null float64\n",
      "title__Master            891 non-null uint8\n",
      "title__Miss              891 non-null uint8\n",
      "title__Mr                891 non-null uint8\n",
      "title__Mrs               891 non-null uint8\n",
      "title__Officer           891 non-null uint8\n",
      "title__Royalty           891 non-null uint8\n",
      "Age__(0.0902, 8.153]     891 non-null uint8\n",
      "Age__(8.153, 16.136]     891 non-null uint8\n",
      "Age__(16.136, 24.119]    891 non-null uint8\n",
      "Age__(24.119, 32.102]    891 non-null uint8\n",
      "Age__(32.102, 40.085]    891 non-null uint8\n",
      "Age__(40.085, 48.068]    891 non-null uint8\n",
      "Age__(48.068, 56.051]    891 non-null uint8\n",
      "Age__(56.051, 64.034]    891 non-null uint8\n",
      "Age__(64.034, 72.017]    891 non-null uint8\n",
      "Age__(72.017, 80.0]      891 non-null uint8\n",
      "Pclass_1                 891 non-null uint8\n",
      "Pclass_2                 891 non-null uint8\n",
      "Pclass_3                 891 non-null uint8\n",
      "Sex_female               891 non-null uint8\n",
      "Sex_male                 891 non-null uint8\n",
      "Embarked_C               891 non-null uint8\n",
      "Embarked_Q               891 non-null uint8\n",
      "Embarked_S               891 non-null uint8\n",
      "Cabin_No                 891 non-null uint8\n",
      "Cabin_Yes                891 non-null uint8\n",
      "child                    891 non-null int64\n",
      "mother                   891 non-null int64\n",
      "family                   891 non-null float64\n",
      "dtypes: float64(3), int64(4), uint8(26)\n",
      "memory usage: 78.3 KB\n"
     ]
    }
   ],
   "source": [
    "train_df_clean.info()"
   ]
  },
  {
   "cell_type": "code",
   "execution_count": null,
   "metadata": {},
   "outputs": [],
   "source": []
  }
 ],
 "metadata": {
  "kernelspec": {
   "display_name": "Python 3",
   "language": "python",
   "name": "python3"
  },
  "language_info": {
   "codemirror_mode": {
    "name": "ipython",
    "version": 3
   },
   "file_extension": ".py",
   "mimetype": "text/x-python",
   "name": "python",
   "nbconvert_exporter": "python",
   "pygments_lexer": "ipython3",
   "version": "3.6.4"
  }
 },
 "nbformat": 4,
 "nbformat_minor": 2
}
