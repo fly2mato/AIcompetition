{
 "cells": [
  {
   "cell_type": "code",
   "execution_count": 1,
   "metadata": {},
   "outputs": [],
   "source": [
    "# data analysis and wrangling\n",
    "import pandas as pd\n",
    "import numpy as np\n",
    "from pandas import Series, DataFrame\n",
    "import random as rnd\n",
    "\n",
    "# visualization\n",
    "import seaborn as sns\n",
    "import matplotlib.pyplot as plt\n",
    "%matplotlib inline\n",
    "\n",
    "# machine learning\n",
    "#from sklearn.linear_model import LogisticRegression\n",
    "#from sklearn.svm import SVC, LinearSVC\n",
    "#from sklearn.ensemble import RandomForestClassifier\n",
    "#from sklearn.neighbors import KNeighborsClassifier\n",
    "#from sklearn.naive_bayes import GaussianNB\n",
    "#from sklearn.linear_model import Perceptron\n",
    "#from sklearn.linear_model import SGDClassifier\n",
    "#from sklearn.tree import DecisionTreeClassifier"
   ]
  },
  {
   "cell_type": "code",
   "execution_count": 2,
   "metadata": {},
   "outputs": [],
   "source": [
    "train_df = pd.read_csv(\"train.csv\")\n",
    "test_df = pd.read_csv('test.csv')"
   ]
  },
  {
   "cell_type": "code",
   "execution_count": 3,
   "metadata": {},
   "outputs": [],
   "source": [
    "train_test_df = train_df.append(test_df, sort=False)\n",
    "PassengerId = test_df['PassengerId']"
   ]
  },
  {
   "cell_type": "code",
   "execution_count": 4,
   "metadata": {},
   "outputs": [],
   "source": [
    "#train_test_df['Cabin_num'] = [len(x.split(' ')) for x in train_test_df.Cabin] #[train_test_df.Cabin.notnull()]]\n",
    "#train_test_df.loc[train_test_df.Cabin.notnull(), 'Fare'] /= [len(x.split(' ')) for x in train_test_df.Cabin[train_test_df.Cabin.notnull()]]\n",
    "train_test_df.loc[train_test_df.Fare.isnull(), 'Fare'] = train_test_df.Fare[train_test_df.Cabin.notnull()].mean()"
   ]
  },
  {
   "cell_type": "code",
   "execution_count": 5,
   "metadata": {},
   "outputs": [],
   "source": [
    "#Name 处理为Title\n",
    "train_test_df['title'] = pd.DataFrame(train_test_df.Name.str.extract('(?P<title>[A-Za-z]+)\\.'))#, expand=False)\n",
    "\n",
    "title_Dict = {}\n",
    "title_Dict.update(dict.fromkeys(['Capt', 'Col', 'Major', 'Dr', 'Rev'], 'Officer'))\n",
    "title_Dict.update(dict.fromkeys(['Don', 'Sir', 'the Countess', 'Dona', 'Lady'], 'Royalty'))\n",
    "title_Dict.update(dict.fromkeys(['Mme', 'Ms', 'Mrs'], 'Mrs'))\n",
    "title_Dict.update(dict.fromkeys(['Mlle', 'Miss'], 'Miss'))\n",
    "title_Dict.update(dict.fromkeys(['Mr'], 'Mr'))\n",
    "title_Dict.update(dict.fromkeys(['Master','Jonkheer'], 'Master'))\n",
    "\n",
    "title_dummies_df = pd.get_dummies(train_test_df.title.map(title_Dict), prefix='title_')\n",
    "train_test_df = pd.concat([train_test_df, title_dummies_df], axis=1)"
   ]
  },
  {
   "cell_type": "code",
   "execution_count": 6,
   "metadata": {},
   "outputs": [],
   "source": [
    "#Age\n",
    "from sklearn.ensemble import RandomForestRegressor\n",
    "\n",
    "### 使用 RandomForestClassifier 填补缺失的年龄属性\n",
    "def set_missing_ages(df):\n",
    "\n",
    "    # 把已有的数值型特征取出来丢进Random Forest Regressor中\n",
    "    age_df = df.filter(regex='Age|title_.*|Fare|Parch|SibSp|Pclass')\n",
    "    # 乘客分成已知年龄和未知年龄两部分\n",
    "    known_age = age_df[age_df.Age.notnull()]\n",
    "    unknown_age = age_df[age_df.Age.isnull()]\n",
    "\n",
    "    # y即目标年龄\n",
    "    y = known_age.Age.values\n",
    "\n",
    "    # X即特征属性值\n",
    "    X = known_age.drop(columns='Age').values\n",
    "    \n",
    "    # fit到RandomForestRegressor之中\n",
    "    rfr = RandomForestRegressor(random_state=0, n_estimators=2000, n_jobs=-1)\n",
    "    rfr.fit(X, y)\n",
    "\n",
    "    # 用得到的模型进行未知年龄结果预测\n",
    "    predictedAges = rfr.predict(unknown_age.drop(columns='Age').values)\n",
    "    \n",
    "    # 用得到的预测结果填补原缺失数据\n",
    "    df.loc[ (df.Age.isnull()), 'Age' ] = predictedAges \n",
    "\n",
    "    return df, rfr\n",
    "\n",
    "def set_missing_ages_by_mean(df):\n",
    "    ptable = (df.pivot_table(index = 'title', aggfunc='mean')).Age.to_dict()\n",
    "    df.loc[df.Age.isnull(),'Age'] = df[df.Age.isnull()].title.map(ptable)\n",
    "    return df\n",
    "\n",
    "def set_Cabin_type(df):\n",
    "    df.loc[ (df.Cabin.notnull()), 'Cabin' ] = \"Yes\"\n",
    "    df.loc[ (df.Cabin.isnull()), 'Cabin' ] = \"No\"\n",
    "    return df\n",
    "\n",
    "def set_Cabin_type_new(df):\n",
    "    #Cabin: 增加仓位号\n",
    "    df.loc[df.Cabin.notnull(), 'Cabin'] = df[df.Cabin.notnull()].Cabin.apply(lambda x: x[0])\n",
    "    df.loc[df.Cabin > 'G', 'Cabin'] = 'T'\n",
    "    df.loc[df.Cabin.isnull(), 'Cabin'] = 'No'\n",
    "    return df\n",
    "\n",
    "train_test_df, rfr = set_missing_ages(train_test_df)\n",
    "#train_test_df = set_missing_ages_by_mean(train_test_df)\n",
    "\n",
    "#Age: bin & dummies\n",
    "train_test_df['Age_bin'] = pd.cut(train_test_df['Age'], 6)\n",
    "age_bin_dummies_df = pd.get_dummies(train_test_df['Age_bin'], prefix='Age_')\n",
    "train_test_df = pd.concat([train_test_df, age_bin_dummies_df], axis=1).drop(columns='Age_bin')\n",
    "\n",
    "#Cabin\n",
    "train_test_df = set_Cabin_type(train_test_df)\n",
    "#train_test_df = set_Cabin_type_new(train_test_df)"
   ]
  },
  {
   "cell_type": "code",
   "execution_count": 7,
   "metadata": {},
   "outputs": [],
   "source": [
    "# add family size\n",
    "train_test_df['family'] = train_test_df.Parch + train_test_df.SibSp + 1\n",
    "train_test_df.loc[train_test_df.family >= 6, 'family'] = 6\n",
    "dummies_family = pd.get_dummies(train_test_df['family'], prefix='family')\n",
    "\n",
    "#Embarked :修改为是否最后一站上船\n",
    "#泰坦尼克号从英国的南安普顿港（S）出发，途径法国瑟堡（C）和爱尔兰昆士敦（Q），那么在昆士敦之前上船的人，有可能在瑟堡或昆士敦下船，这些人将不会遇到海难。\n",
    "#train_test_df['LastEmbarked'] = (train_test_df.Embarked == 'Q') + 0\n",
    "\n",
    "#Pclass, Sex, Embarked  : dummies\n",
    "dummies_Pclass = pd.get_dummies(train_test_df['Pclass'], prefix='Pclass')\n",
    "dummies_Sex = pd.get_dummies(train_test_df['Sex'], prefix= 'Sex')\n",
    "dummies_Embarked = pd.get_dummies(train_test_df['Embarked'], prefix= 'Embarked')\n",
    "dummies_Cabin = pd.get_dummies(train_test_df['Cabin'], prefix='Cabin')\n",
    "\n",
    "train_test_df = pd.concat([train_test_df, dummies_Pclass, dummies_Sex, dummies_Embarked, dummies_Cabin, dummies_family], axis=1)\n",
    "#train_test_df = pd.concat([train_test_df, dummies_Pclass, dummies_Sex, dummies_Cabin, dummies_family], axis=1)\n",
    "\n",
    "train_test_df.drop(columns=['Pclass', 'Sex', 'Embarked', 'Cabin', 'title', 'family'], inplace=True)\n",
    "\n",
    "# add child\n",
    "train_test_df['child'] = (train_test_df.Age < 12) + 0\n",
    "\n",
    "# add mother\n",
    "train_test_df['mother'] = ((train_test_df.title__Mrs==1 + (train_test_df.Parch > 1)) > 0 ) + 0\n",
    "\n"
   ]
  },
  {
   "cell_type": "code",
   "execution_count": 8,
   "metadata": {},
   "outputs": [],
   "source": [
    "#scale\n",
    "import sklearn.preprocessing as preprocessing\n",
    "scaler = preprocessing.StandardScaler()\n",
    "\n",
    "train_test_df['Fare'] = scaler.fit_transform(train_test_df[['Fare']], scaler.fit(train_test_df[['Fare']]))"
   ]
  },
  {
   "cell_type": "code",
   "execution_count": 9,
   "metadata": {},
   "outputs": [],
   "source": [
    "train_test_df.drop(columns=['Name','Age','Ticket','PassengerId'], inplace=True)\n",
    "#train_test_df.info()"
   ]
  },
  {
   "cell_type": "code",
   "execution_count": 10,
   "metadata": {},
   "outputs": [],
   "source": [
    "train_df_clean = train_test_df.iloc[0:891,:]\n",
    "test_df_clean = train_test_df.iloc[891::,:]"
   ]
  },
  {
   "cell_type": "code",
   "execution_count": 29,
   "metadata": {},
   "outputs": [],
   "source": [
    "from sklearn import linear_model\n",
    "\n",
    "clf = linear_model.LogisticRegression(C=1.0, penalty='l1', tol=1e-6)\n",
    "X = train_df_clean.drop(columns='Survived').values\n",
    "y = train_df_clean.Survived.values\n",
    "clf.fit(X,y)\n",
    "predictions = clf.predict(test_df_clean.drop(columns='Survived'))\n",
    "\n",
    "result = pd.DataFrame({'PassengerId':PassengerId.values, 'Survived':predictions.astype(np.int32)})\n",
    "#result.to_csv(\"./my_predictions.csv\", index=False)"
   ]
  },
  {
   "cell_type": "code",
   "execution_count": 30,
   "metadata": {},
   "outputs": [],
   "source": [
    "from sklearn.ensemble import BaggingRegressor\n",
    "\n",
    "# fit到BaggingRegressor之中\n",
    "clf = linear_model.LogisticRegression(C=1, penalty='l1', tol=1e-6)\n",
    "bagging_clf = BaggingRegressor(clf, n_estimators=20, max_samples=0.8, max_features=1.0, bootstrap=True, bootstrap_features=False, n_jobs=-1)\n",
    "bagging_clf.fit(X, y)\n",
    "\n",
    "predictions = bagging_clf.predict(test_df_clean.drop(columns='Survived'))\n",
    "result2 = pd.DataFrame({'PassengerId':PassengerId.values, 'Survived':predictions.astype(np.int32)})\n",
    "#result2.to_csv(\"./my_bagging_predictions2.csv\", index=False)"
   ]
  },
  {
   "cell_type": "code",
   "execution_count": 31,
   "metadata": {},
   "outputs": [
    {
     "name": "stdout",
     "output_type": "stream",
     "text": [
      "<class 'pandas.core.frame.DataFrame'>\n",
      "RangeIndex: 418 entries, 0 to 417\n",
      "Data columns (total 2 columns):\n",
      "PassengerId    418 non-null int64\n",
      "Survived       418 non-null int64\n",
      "dtypes: int64(2)\n",
      "memory usage: 6.6 KB\n"
     ]
    }
   ],
   "source": [
    "ans = pd.read_csv('./0836.csv')\n",
    "ans.info()"
   ]
  },
  {
   "cell_type": "code",
   "execution_count": 32,
   "metadata": {},
   "outputs": [
    {
     "name": "stdout",
     "output_type": "stream",
     "text": [
      "norm: 368\n",
      "bag: 388\n"
     ]
    }
   ],
   "source": [
    "print(\"norm:\", (ans.Survived == result.Survived).sum())\n",
    "print(\"bag:\", (ans.Survived == result2.Survived).sum())\n"
   ]
  },
  {
   "cell_type": "code",
   "execution_count": 41,
   "metadata": {},
   "outputs": [
    {
     "name": "stdout",
     "output_type": "stream",
     "text": [
      "<class 'pandas.core.frame.DataFrame'>\n",
      "Int64Index: 891 entries, 0 to 890\n",
      "Data columns (total 28 columns):\n",
      "Survived                 891 non-null float64\n",
      "SibSp                    891 non-null int64\n",
      "Parch                    891 non-null int64\n",
      "Fare                     891 non-null float64\n",
      "title__Master            891 non-null uint8\n",
      "title__Miss              891 non-null uint8\n",
      "title__Mr                891 non-null uint8\n",
      "title__Mrs               891 non-null uint8\n",
      "title__Officer           891 non-null uint8\n",
      "title__Royalty           891 non-null uint8\n",
      "Age__(0.0902, 16.136]    891 non-null uint8\n",
      "Age__(16.136, 32.102]    891 non-null uint8\n",
      "Age__(32.102, 48.068]    891 non-null uint8\n",
      "Age__(48.068, 64.034]    891 non-null uint8\n",
      "Age__(64.034, 80.0]      891 non-null uint8\n",
      "family                   891 non-null float64\n",
      "Pclass_1                 891 non-null uint8\n",
      "Pclass_2                 891 non-null uint8\n",
      "Pclass_3                 891 non-null uint8\n",
      "Sex_female               891 non-null uint8\n",
      "Sex_male                 891 non-null uint8\n",
      "Embarked_C               891 non-null uint8\n",
      "Embarked_Q               891 non-null uint8\n",
      "Embarked_S               891 non-null uint8\n",
      "Cabin_No                 891 non-null uint8\n",
      "Cabin_Yes                891 non-null uint8\n",
      "child                    891 non-null int64\n",
      "mother                   891 non-null int64\n",
      "dtypes: float64(3), int64(4), uint8(21)\n",
      "memory usage: 74.0 KB\n"
     ]
    }
   ],
   "source": [
    "train_df_clean.info()"
   ]
  },
  {
   "cell_type": "code",
   "execution_count": 16,
   "metadata": {},
   "outputs": [
    {
     "data": {
      "text/plain": [
       "<matplotlib.axes._subplots.AxesSubplot at 0x7f652c19d7f0>"
      ]
     },
     "execution_count": 16,
     "metadata": {},
     "output_type": "execute_result"
    },
    {
     "data": {
      "image/png": "[encoded data removed]",
      "text/plain": [
       "<matplotlib.figure.Figure at 0x7f6530833c50>"
      ]
     },
     "metadata": {},
     "output_type": "display_data"
    }
   ],
   "source": [
    "pd.crosstab(train_df.Survived, train_df.Sex).plot.bar(stacked=True)"
   ]
  },
  {
   "cell_type": "code",
   "execution_count": 17,
   "metadata": {},
   "outputs": [],
   "source": [
    "a = train_df.copy()\n",
    "a.loc[a.Cabin.notnull(), 'Cabin'] = a[a.Cabin.notnull()].Cabin.apply(lambda x: x[0])\n",
    "#a.loc[a[a.Cabin.notnull()].Cabin > 'G', 'Cabin'] = 'T'\n",
    "a.loc[a.Cabin > 'G', 'Cabin'] = 'T'"
   ]
  },
  {
   "cell_type": "code",
   "execution_count": 18,
   "metadata": {},
   "outputs": [
    {
     "data": {
      "text/plain": [
       "<matplotlib.axes._subplots.AxesSubplot at 0x7f652c092518>"
      ]
     },
     "execution_count": 18,
     "metadata": {},
     "output_type": "execute_result"
    },
    {
     "data": {
      "image/png": "[encoded data removed]",
      "text/plain": [
       "<matplotlib.figure.Figure at 0x7f652c0d39b0>"
      ]
     },
     "metadata": {},
     "output_type": "display_data"
    }
   ],
   "source": [
    "pd.crosstab(a.Cabin, a.Survived,).plot.bar(stacked=True)"
   ]
  },
  {
   "cell_type": "code",
   "execution_count": 19,
   "metadata": {},
   "outputs": [
    {
     "data": {
      "text/plain": [
       "C    35\n",
       "B    18\n",
       "D    13\n",
       "E     9\n",
       "F     8\n",
       "A     7\n",
       "G     1\n",
       "Name: Cabin, dtype: int64"
      ]
     },
     "execution_count": 19,
     "metadata": {},
     "output_type": "execute_result"
    }
   ],
   "source": [
    "test_df[test_df.Cabin.notnull()].Cabin.apply(lambda x: x[0]).value_counts()"
   ]
  },
  {
   "cell_type": "code",
   "execution_count": null,
   "metadata": {},
   "outputs": [],
   "source": []
  },
  {
   "cell_type": "code",
   "execution_count": null,
   "metadata": {},
   "outputs": [],
   "source": []
  },
  {
   "cell_type": "code",
   "execution_count": null,
   "metadata": {},
   "outputs": [],
   "source": []
  },
  {
   "cell_type": "code",
   "execution_count": null,
   "metadata": {},
   "outputs": [],
   "source": []
  },
  {
   "cell_type": "code",
   "execution_count": null,
   "metadata": {},
   "outputs": [],
   "source": []
  },
  {
   "cell_type": "code",
   "execution_count": null,
   "metadata": {},
   "outputs": [],
   "source": []
  }
 ],
 "metadata": {
  "kernelspec": {
   "display_name": "Python 3",
   "language": "python",
   "name": "python3"
  },
  "language_info": {
   "codemirror_mode": {
    "name": "ipython",
    "version": 3
   },
   "file_extension": ".py",
   "mimetype": "text/x-python",
   "name": "python",
   "nbconvert_exporter": "python",
   "pygments_lexer": "ipython3",
   "version": "3.6.4"
  }
 },
 "nbformat": 4,
 "nbformat_minor": 2
}
