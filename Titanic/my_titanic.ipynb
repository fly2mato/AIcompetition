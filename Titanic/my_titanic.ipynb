{
 "cells": [
  {
   "cell_type": "code",
   "execution_count": 1,
   "metadata": {},
   "outputs": [],
   "source": [
    "# data analysis and wrangling\n",
    "import pandas as pd\n",
    "import numpy as np\n",
    "from pandas import Series, DataFrame\n",
    "import random as rnd\n",
    "\n",
    "# visualization\n",
    "import seaborn as sns\n",
    "import matplotlib.pyplot as plt\n",
    "%matplotlib inline\n",
    "\n",
    "train_df = pd.read_csv(\"train.csv\")\n",
    "test_df = pd.read_csv('test.csv')"
   ]
  },
  {
   "cell_type": "code",
   "execution_count": 2,
   "metadata": {},
   "outputs": [],
   "source": [
    "#数据处理及缺失值补充\n",
    "#Fare in train\n",
    "#train_df.loc[train_df.Cabin.notnull(), 'Fare'] /= [len(x.split(' ')) for x in train_df.Cabin[train_df.Cabin.notnull()]]\n",
    "#Fare in test\n",
    "#test_df.loc[test_df.Cabin.notnull(), 'Fare'] /= [len(x.split(' ')) for x in test_df.Cabin[test_df.Cabin.notnull()]]\n",
    "#test_df.loc[test_df.Fare.isnull(), 'Fare'] = test_df.Fare[test_df.Cabin.notnull()].mean()\n",
    "\n",
    "\n",
    "train_test_df = train_df.append(test_df, sort=False)\n",
    "PassengerId = test_df['PassengerId']\n",
    "\n",
    "#train_test_df['Cabin_num'] = [len(x.split(' ')) for x in train_test_df.Cabin] #[train_test_df.Cabin.notnull()]]\n",
    "#train_test_df.loc[train_test_df.Cabin.notnull(), 'Fare'] /= [len(x.split(' ')) for x in train_test_df.Cabin[train_test_df.Cabin.notnull()]]\n",
    "train_test_df.loc[train_test_df.Fare.isnull(), 'Fare'] = train_test_df.Fare[train_test_df.Cabin.notnull()].mean()"
   ]
  },
  {
   "cell_type": "code",
   "execution_count": 3,
   "metadata": {},
   "outputs": [],
   "source": [
    "#Name 处理为Title\n",
    "train_test_df['title'] = pd.DataFrame(train_test_df.Name.str.extract('(?P<title>[A-Za-z]+)\\.'))#, expand=False)\n",
    "\n",
    "title_Dict = {}\n",
    "title_Dict.update(dict.fromkeys(['Capt', 'Col', 'Major', 'Dr', 'Rev'], 'Officer'))\n",
    "title_Dict.update(dict.fromkeys(['Don', 'Sir', 'the Countess', 'Dona', 'Lady'], 'Royalty'))\n",
    "title_Dict.update(dict.fromkeys(['Mme', 'Ms', 'Mrs'], 'Mrs'))\n",
    "title_Dict.update(dict.fromkeys(['Mlle', 'Miss'], 'Miss'))\n",
    "title_Dict.update(dict.fromkeys(['Mr','Jonkheer'], 'Mr'))\n",
    "title_Dict.update(dict.fromkeys(['Master'], 'Master'))\n",
    "\n",
    "title_dummies_df = pd.get_dummies(train_test_df.title.map(title_Dict), prefix='title_')\n",
    "train_test_df = pd.concat([train_test_df, title_dummies_df], axis=1)"
   ]
  },
  {
   "cell_type": "code",
   "execution_count": 4,
   "metadata": {},
   "outputs": [],
   "source": [
    "#Age\n",
    "from sklearn.ensemble import RandomForestRegressor\n",
    "\n",
    "### 使用 RandomForestClassifier 填补缺失的年龄属性\n",
    "def set_missing_ages(df):\n",
    "\n",
    "    # 把已有的数值型特征取出来丢进Random Forest Regressor中\n",
    "    age_df = df.filter(regex='Age|title_.*|Fare|Parch|SibSp|Pclass')\n",
    "    # 乘客分成已知年龄和未知年龄两部分\n",
    "    known_age = age_df[age_df.Age.notnull()]\n",
    "    unknown_age = age_df[age_df.Age.isnull()]\n",
    "\n",
    "    # y即目标年龄\n",
    "    y = known_age.Age.values\n",
    "\n",
    "    # X即特征属性值\n",
    "    X = known_age.drop(columns='Age').values\n",
    "    \n",
    "    # fit到RandomForestRegressor之中\n",
    "    rfr = RandomForestRegressor(random_state=0, n_estimators=2000, n_jobs=-1)\n",
    "    rfr.fit(X, y)\n",
    "\n",
    "    # 用得到的模型进行未知年龄结果预测\n",
    "    predictedAges = rfr.predict(unknown_age.drop(columns='Age').values)\n",
    "    \n",
    "    # 用得到的预测结果填补原缺失数据\n",
    "    df.loc[ (df.Age.isnull()), 'Age' ] = predictedAges \n",
    "\n",
    "    return df, rfr\n",
    "\n",
    "def set_missing_ages_by_mean(df):\n",
    "    ptable = (df.pivot_table(index = 'title', aggfunc='mean')).Age.to_dict()\n",
    "    df.loc[df.Age.isnull(),'Age'] = df[df.Age.isnull()].title.map(ptable)\n",
    "    return df\n",
    "\n",
    "def set_Cabin_type(df):\n",
    "    df.loc[ (df.Cabin.notnull()), 'Cabin' ] = \"Yes\"\n",
    "    df.loc[ (df.Cabin.isnull()), 'Cabin' ] = \"No\"\n",
    "    return df\n",
    "\n",
    "def set_Cabin_type_new(df):\n",
    "    #Cabin: 增加仓位号\n",
    "    df.loc[df.Cabin.notnull(), 'Cabin'] = df[df.Cabin.notnull()].Cabin.apply(lambda x: x[0])\n",
    "    df.loc[df.Cabin > 'G', 'Cabin'] = 'T'\n",
    "    df.loc[df.Cabin.isnull(), 'Cabin'] = 'No'\n",
    "    return df\n",
    "\n",
    "train_test_df, rfr = set_missing_ages(train_test_df)\n",
    "#train_test_df = set_missing_ages_by_mean(train_test_df)\n",
    "\n",
    "#Age: bin & dummies\n",
    "train_test_df['Age_bin'] = pd.cut(train_test_df['Age'], 5)\n",
    "age_bin_dummies_df = pd.get_dummies(train_test_df['Age_bin'], prefix='Age_')\n",
    "train_test_df = pd.concat([train_test_df, age_bin_dummies_df], axis=1).drop(columns='Age_bin')\n",
    "\n",
    "#Cabin\n",
    "#train_test_df = set_Cabin_type(train_test_df)\n",
    "train_test_df = set_Cabin_type_new(train_test_df)"
   ]
  },
  {
   "cell_type": "code",
   "execution_count": 5,
   "metadata": {},
   "outputs": [],
   "source": [
    "# add family size\n",
    "train_test_df['family'] = train_test_df.Parch + train_test_df.SibSp + 1\n",
    "train_test_df.loc[train_test_df.family >= 6, 'family'] = 6\n",
    "dummies_family = pd.get_dummies(train_test_df['family'], prefix='family')\n",
    "\n",
    "#Embarked :修改为是否最后一站上船\n",
    "#泰坦尼克号从英国的南安普顿港（S）出发，途径法国瑟堡（C）和爱尔兰昆士敦（Q），那么在昆士敦之前上船的人，有可能在瑟堡或昆士敦下船，这些人将不会遇到海难。\n",
    "train_test_df['LastEmbarked'] = (train_test_df.Embarked == 'Q') + 0\n",
    "\n",
    "#Pclass, Sex, Embarked  : dummies\n",
    "dummies_Pclass = pd.get_dummies(train_test_df['Pclass'], prefix='Pclass')\n",
    "dummies_Sex = pd.get_dummies(train_test_df['Sex'], prefix= 'Sex')\n",
    "#dummies_Embarked = pd.get_dummies(train_test_df['Embarked'], prefix= 'Embarked')\n",
    "dummies_Cabin = pd.get_dummies(train_test_df['Cabin'], prefix='Cabin')\n",
    "\n",
    "#train_test_df = pd.concat([train_test_df, dummies_Pclass, dummies_Sex, dummies_Embarked, dummies_Cabin, dummies_family], axis=1)\n",
    "train_test_df = pd.concat([train_test_df, dummies_Pclass, dummies_Sex, dummies_Cabin, dummies_family], axis=1)\n",
    "\n",
    "train_test_df.drop(columns=['Pclass', 'Sex', 'Embarked', 'Cabin', 'title', 'family'], inplace=True)\n",
    "\n",
    "# add child\n",
    "train_test_df['child'] = (train_test_df.Age < 12) + 0\n",
    "\n",
    "# add mother\n",
    "train_test_df['mother'] = ((train_test_df.title__Mrs==1 + (train_test_df.Parch > 1)) > 0 ) + 0\n",
    "\n",
    "#scale\n",
    "import sklearn.preprocessing as preprocessing\n",
    "scaler = preprocessing.StandardScaler()\n",
    "\n",
    "train_test_df['Fare'] = scaler.fit_transform(train_test_df[['Fare']], scaler.fit(train_test_df[['Fare']]))"
   ]
  },
  {
   "cell_type": "code",
   "execution_count": 6,
   "metadata": {},
   "outputs": [],
   "source": [
    "train_test_df.drop(columns=['Name','Age','Ticket','PassengerId'], inplace=True)\n",
    "#train_test_df.info()"
   ]
  },
  {
   "cell_type": "code",
   "execution_count": 7,
   "metadata": {},
   "outputs": [],
   "source": [
    "train_df_clean = train_test_df.iloc[0:891,:]\n",
    "test_df_clean = train_test_df.iloc[891::,:]"
   ]
  },
  {
   "cell_type": "code",
   "execution_count": 8,
   "metadata": {},
   "outputs": [
    {
     "data": {
      "text/plain": [
       "array([ 0.82681564,  0.82122905,  0.80337079,  0.82022472,  0.84745763])"
      ]
     },
     "execution_count": 8,
     "metadata": {},
     "output_type": "execute_result"
    }
   ],
   "source": [
    "from sklearn import model_selection\n",
    "from sklearn import linear_model\n",
    "\n",
    "clf = linear_model.LogisticRegression(C=1.0, penalty='l1', tol=1e-6)\n",
    "X = train_df_clean.drop(columns='Survived').values\n",
    "y = train_df_clean.Survived.values\n",
    "model_selection.cross_val_score(clf, X, y, cv=5)"
   ]
  },
  {
   "cell_type": "code",
   "execution_count": 9,
   "metadata": {},
   "outputs": [
    {
     "name": "stdout",
     "output_type": "stream",
     "text": [
      "[[ 0.89655172  0.86206897  0.86206897]\n",
      " [ 0.91525424  0.89830508  0.89830508]\n",
      " [ 0.8988764   0.83146067  0.83146067]\n",
      " [ 0.88135593  0.86440678  0.86440678]\n",
      " [ 0.85810811  0.83108108  0.83108108]\n",
      " [ 0.85393258  0.84269663  0.84269663]\n",
      " [ 0.85024155  0.85024155  0.85024155]\n",
      " [ 0.85232068  0.83966245  0.83966245]\n",
      " [ 0.83895131  0.83146067  0.83146067]\n",
      " [ 0.83783784  0.8277027   0.82432432]\n",
      " [ 0.83742331  0.80981595  0.82822086]\n",
      " [ 0.84269663  0.82303371  0.83707865]\n",
      " [ 0.83937824  0.81865285  0.84196891]\n",
      " [ 0.84578313  0.82409639  0.83614458]\n",
      " [ 0.85168539  0.8247191   0.83595506]\n",
      " [ 0.84631579  0.82736842  0.83368421]\n",
      " [ 0.84920635  0.83134921  0.83730159]\n",
      " [ 0.84456929  0.82397004  0.83707865]\n",
      " [ 0.84751773  0.82801418  0.83510638]\n",
      " [ 0.84848485  0.82828283  0.83333333]]\n"
     ]
    },
    {
     "data": {
      "image/png": "[encoded data removed]",
      "text/plain": [
       "<matplotlib.figure.Figure at 0x7fbff406cc88>"
      ]
     },
     "metadata": {},
     "output_type": "display_data"
    },
    {
     "data": {
      "text/plain": [
       "(0.82832629711477213, 0.033916495041812267)"
      ]
     },
     "execution_count": 9,
     "metadata": {},
     "output_type": "execute_result"
    }
   ],
   "source": [
    "#learning curve\n",
    "from sklearn.model_selection import learning_curve\n",
    "\n",
    "def plot_learning_curv(estimator, title, X, y, ylim=None, cv=None, n_jobs=1,\n",
    "                      train_sizes=np.linspace(.05, 1., 20), verbose=0, plot=True):\n",
    "    \n",
    "    train_size, train_scores, test_scores = learning_curve(estimator, X, y, cv=cv, n_jobs=n_jobs, train_sizes=train_sizes, verbose=verbose)\n",
    "    \n",
    "    print(train_scores)\n",
    "    \n",
    "    train_scores_mean = np.mean(train_scores, axis=1)\n",
    "    train_scores_std = np.std(train_scores, axis=1)\n",
    "    test_scores_mean = np.mean(test_scores, axis=1)\n",
    "    test_scores_std = np.std(test_scores, axis=1)\n",
    "\n",
    "    if plot:\n",
    "        plt.figure()\n",
    "        plt.title(title)\n",
    "        if ylim is not None:\n",
    "            plt.ylim(*ylim)\n",
    "        plt.xlabel(u\"训练样本数\")\n",
    "        plt.ylabel(u\"得分\")\n",
    "        #plt.gca().invert_yaxis()\n",
    "        plt.grid()\n",
    "\n",
    "        plt.fill_between(train_sizes, train_scores_mean - train_scores_std, train_scores_mean + train_scores_std, \n",
    "                         alpha=0.1, color=\"b\")\n",
    "        plt.fill_between(train_sizes, test_scores_mean - test_scores_std, test_scores_mean + test_scores_std, \n",
    "                         alpha=0.1, color=\"r\")\n",
    "        plt.plot(train_sizes, train_scores_mean, 'o-', color=\"b\", label=u\"训练集上得分\")\n",
    "        plt.plot(train_sizes, test_scores_mean, 'o-', color=\"r\", label=u\"交叉验证集上得分\")\n",
    "\n",
    "        plt.legend(loc=\"best\")\n",
    "\n",
    "        plt.draw()\n",
    "        plt.show()\n",
    "        #plt.gca().invert_yaxis()\n",
    "\n",
    "    midpoint = ((train_scores_mean[-1] + train_scores_std[-1]) + (test_scores_mean[-1] - test_scores_std[-1])) / 2\n",
    "    diff = (train_scores_mean[-1] + train_scores_std[-1]) - (test_scores_mean[-1] - test_scores_std[-1])\n",
    "    return midpoint, diff\n",
    "\n",
    "plot_learning_curv(clf, u\"学习曲线\", X, y, cv=3)"
   ]
  },
  {
   "cell_type": "code",
   "execution_count": null,
   "metadata": {},
   "outputs": [],
   "source": []
  },
  {
   "cell_type": "code",
   "execution_count": null,
   "metadata": {},
   "outputs": [],
   "source": []
  },
  {
   "cell_type": "code",
   "execution_count": null,
   "metadata": {},
   "outputs": [],
   "source": [
    "array([ 0.84357542,  0.82681564,  0.79775281,  0.82022472,  0.86440678])\n",
    "array([ 0.84357542,  0.82681564,  0.80337079,  0.82022472,  0.85875706])\n",
    "array([ 0.84357542,  0.82681564,  0.80337079,  0.82022472,  0.86440678])\n",
    "array([ 0.84357542,  0.82681564,  0.79213483,  0.82022472,  0.8700565 ])\n",
    "array([ 0.84357542,  0.82681564,  0.79775281,  0.82022472,  0.8700565 ])\n",
    "array([ 0.83798883,  0.82122905,  0.80337079,  0.80898876,  0.85875706])\n",
    "array([ 0.82681564,  0.82122905,  0.80337079,  0.82022472,  0.84745763])\n",
    "array([ 0.82122905,  0.83240223,  0.80898876,  0.82022472,  0.85875706])"
   ]
  },
  {
   "cell_type": "code",
   "execution_count": null,
   "metadata": {},
   "outputs": [],
   "source": [
    "(0.8300484563793622, 0.026200211330200784)\n",
    "(0.82635563492473763, 0.029975170661743378)\n",
    "(0.8277815560181796, 0.032384678532457745)\n",
    "(0.82983424696027397, 0.031117967991048157)\n",
    "(0.82889637833395269, 0.028322650746166689)\n",
    "(0.82783509714923031, 0.021773492869937239)\n",
    "(0.82832629711477213, 0.033916495041812267)\n",
    "(0.82762950397022739, 0.033448266691403994)"
   ]
  },
  {
   "cell_type": "code",
   "execution_count": 10,
   "metadata": {},
   "outputs": [],
   "source": [
    "clf.fit(X,y)\n",
    "predictions = clf.predict(test_df_clean.drop(columns='Survived'))\n",
    "\n",
    "result = pd.DataFrame({'PassengerId':PassengerId.values, 'Survived':predictions.astype(np.int32)})\n",
    "result.to_csv(\"./my_predictions.csv\", index=False)"
   ]
  },
  {
   "cell_type": "code",
   "execution_count": null,
   "metadata": {},
   "outputs": [],
   "source": []
  },
  {
   "cell_type": "code",
   "execution_count": 13,
   "metadata": {},
   "outputs": [],
   "source": [
    "#划分训练集和交叉验证集\n",
    "from sklearn import model_selection\n",
    "\n",
    "split_train, split_cv = model_selection.train_test_split(train_df_clean, test_size=0.3, random_state=5)\n",
    "\n",
    "X = split_train.drop(columns='Survived').values\n",
    "y = split_train.Survived.values\n",
    "\n",
    "X_cv = split_cv.drop(columns='Survived').values\n",
    "y_cv = split_cv.Survived.values"
   ]
  },
  {
   "cell_type": "code",
   "execution_count": 43,
   "metadata": {},
   "outputs": [
    {
     "name": "stdout",
     "output_type": "stream",
     "text": [
      "accuracy: 0.835820895522\n",
      "recall: 0.70297029703\n",
      "precision: 0.835294117647\n"
     ]
    }
   ],
   "source": [
    "#手动分析bad cases\n",
    "\n",
    "from sklearn import linear_model\n",
    "clf = linear_model.LogisticRegression(C=1.0, penalty='l1', tol=1e-6)\n",
    "\n",
    "clf.fit(X,y)\n",
    "predictions = clf.predict(X_cv)\n",
    "\n",
    "from sklearn import metrics\n",
    "print(\"accuracy:\", metrics.accuracy_score(y_cv, predictions, normalize=True, sample_weight=None))\n",
    "print(\"recall:\", metrics.recall_score(y_cv, predictions, labels=None, pos_label=1, average='binary', sample_weight=None))\n",
    "print(\"precision:\", metrics.precision_score(y_cv, predictions, labels=None, pos_label=1, average='binary', sample_weight=None))#origin_data_train = pd.read_csv(\"/Users/HanXiaoyang/Titanic_data/Train.csv\")\n",
    "#pd.DataFrame({'columns':list(train_df_clean.drop(columns='Survived').columns), 'coef':list(clf.coef_.T)})"
   ]
  },
  {
   "cell_type": "code",
   "execution_count": 45,
   "metadata": {},
   "outputs": [],
   "source": [
    "#bad cases\n",
    "bad_cases_index = y_cv != predictions\n",
    "good_cases_index = y_cv == predictions\n",
    "bad_cases = train_df.iloc[split_cv[bad_cases_index].index]\n",
    "good_cases = train_df.iloc[split_cv[good_cases_index].index]\n",
    "bad_cases.insert(0, 'predict', 'WRONG')\n",
    "good_cases.insert(0, 'predict', 'ACCEPT')\n",
    "cases_org = pd.concat([bad_cases, good_cases], axis=0)\n",
    "\n",
    "bad_cases2 = split_cv[bad_cases_index]\n",
    "good_cases2 = split_cv[good_cases_index]\n",
    "bad_cases2.insert(0, 'predict', 'WRONG')\n",
    "good_cases2.insert(0, 'predict', 'ACCEPT')\n",
    "cases_clean = pd.concat([bad_cases2, good_cases2], axis=0)\n",
    "\n",
    "#bad_cases"
   ]
  },
  {
   "cell_type": "code",
   "execution_count": null,
   "metadata": {},
   "outputs": [],
   "source": [
    "print(cases_org.columns)\n",
    "print(cases_clean.columns)\n",
    "print('-'*10)\n",
    "ans1 = pd.crosstab(cases_org.predict, cases_org.Sex, margins=True)\n",
    "ans1.apply(lambda x: x/ans1.All)"
   ]
  },
  {
   "cell_type": "code",
   "execution_count": 48,
   "metadata": {},
   "outputs": [
    {
     "name": "stdout",
     "output_type": "stream",
     "text": [
      "title__Master    0   1  All\n",
      "predict                    \n",
      "ACCEPT         212  12  224\n",
      "WRONG           41   3   44\n",
      "All            253  15  268\n"
     ]
    },
    {
     "data": {
      "text/html": [
       "<div>\n",
       "<style scoped>\n",
       "    .dataframe tbody tr th:only-of-type {\n",
       "        vertical-align: middle;\n",
       "    }\n",
       "\n",
       "    .dataframe tbody tr th {\n",
       "        vertical-align: top;\n",
       "    }\n",
       "\n",
       "    .dataframe thead th {\n",
       "        text-align: right;\n",
       "    }\n",
       "</style>\n",
       "<table border=\"1\" class=\"dataframe\">\n",
       "  <thead>\n",
       "    <tr style=\"text-align: right;\">\n",
       "      <th>title__Master</th>\n",
       "      <th>0</th>\n",
       "      <th>1</th>\n",
       "      <th>All</th>\n",
       "    </tr>\n",
       "    <tr>\n",
       "      <th>predict</th>\n",
       "      <th></th>\n",
       "      <th></th>\n",
       "      <th></th>\n",
       "    </tr>\n",
       "  </thead>\n",
       "  <tbody>\n",
       "    <tr>\n",
       "      <th>ACCEPT</th>\n",
       "      <td>0.946429</td>\n",
       "      <td>0.053571</td>\n",
       "      <td>1.0</td>\n",
       "    </tr>\n",
       "    <tr>\n",
       "      <th>WRONG</th>\n",
       "      <td>0.931818</td>\n",
       "      <td>0.068182</td>\n",
       "      <td>1.0</td>\n",
       "    </tr>\n",
       "    <tr>\n",
       "      <th>All</th>\n",
       "      <td>0.944030</td>\n",
       "      <td>0.055970</td>\n",
       "      <td>1.0</td>\n",
       "    </tr>\n",
       "  </tbody>\n",
       "</table>\n",
       "</div>"
      ],
      "text/plain": [
       "title__Master         0         1  All\n",
       "predict                               \n",
       "ACCEPT         0.946429  0.053571  1.0\n",
       "WRONG          0.931818  0.068182  1.0\n",
       "All            0.944030  0.055970  1.0"
      ]
     },
     "execution_count": 48,
     "metadata": {},
     "output_type": "execute_result"
    }
   ],
   "source": [
    "ans2 = pd.crosstab(cases_clean.predict, cases_clean['title__Master'], margins=True)\n",
    "print(ans2)\n",
    "ans2.apply(lambda x: x/ans2.All)"
   ]
  },
  {
   "cell_type": "code",
   "execution_count": 49,
   "metadata": {},
   "outputs": [],
   "source": [
    "#bad case analysis\n",
    "\n",
    "#split_train.corr().Survived.sort_values(ascending=False)"
   ]
  },
  {
   "cell_type": "code",
   "execution_count": 50,
   "metadata": {},
   "outputs": [
    {
     "data": {
      "text/plain": [
       "array([ 0.83798883,  0.81005587,  0.79775281,  0.80337079,  0.85875706])"
      ]
     },
     "execution_count": 50,
     "metadata": {},
     "output_type": "execute_result"
    }
   ],
   "source": []
  },
  {
   "cell_type": "code",
   "execution_count": 51,
   "metadata": {},
   "outputs": [],
   "source": []
  },
  {
   "cell_type": "code",
   "execution_count": 52,
   "metadata": {},
   "outputs": [],
   "source": []
  },
  {
   "cell_type": "code",
   "execution_count": 64,
   "metadata": {},
   "outputs": [],
   "source": []
  },
  {
   "cell_type": "code",
   "execution_count": 65,
   "metadata": {},
   "outputs": [],
   "source": [
    "from sklearn.ensemble import BaggingRegressor\n",
    "\n",
    "# fit到BaggingRegressor之中\n",
    "clf = linear_model.LogisticRegression(C=1.0, penalty='l1', tol=1e-6)\n",
    "bagging_clf = BaggingRegressor(clf, n_estimators=20, max_samples=0.8, max_features=1.0, bootstrap=True, bootstrap_features=False, n_jobs=-1)\n",
    "bagging_clf.fit(X, y)\n",
    "\n",
    "predictions = bagging_clf.predict(test_df_clean.drop(columns='Survived'))\n",
    "result2 = pd.DataFrame({'PassengerId':PassengerId.values, 'Survived':predictions.astype(np.int32)})\n",
    "result2.to_csv(\"./my_bagging_predictions2.csv\", index=False)"
   ]
  },
  {
   "cell_type": "code",
   "execution_count": 66,
   "metadata": {},
   "outputs": [
    {
     "name": "stdout",
     "output_type": "stream",
     "text": [
      "<class 'pandas.core.frame.DataFrame'>\n",
      "RangeIndex: 418 entries, 0 to 417\n",
      "Data columns (total 2 columns):\n",
      "PassengerId    418 non-null int64\n",
      "Survived       418 non-null int64\n",
      "dtypes: int64(2)\n",
      "memory usage: 6.6 KB\n"
     ]
    }
   ],
   "source": [
    "ans = pd.read_csv('./0836.csv')\n",
    "ans.info()"
   ]
  },
  {
   "cell_type": "code",
   "execution_count": 67,
   "metadata": {},
   "outputs": [
    {
     "name": "stdout",
     "output_type": "stream",
     "text": [
      "norm: 373\n",
      "bag: 403\n"
     ]
    }
   ],
   "source": [
    "print(\"norm:\", (ans.Survived == result.Survived).sum())\n",
    "print(\"bag:\", (ans.Survived == result2.Survived).sum())\n"
   ]
  },
  {
   "cell_type": "code",
   "execution_count": 27,
   "metadata": {},
   "outputs": [
    {
     "name": "stdout",
     "output_type": "stream",
     "text": [
      "<class 'pandas.core.frame.DataFrame'>\n",
      "Int64Index: 891 entries, 0 to 890\n",
      "Data columns (total 28 columns):\n",
      "Survived                 891 non-null float64\n",
      "SibSp                    891 non-null int64\n",
      "Parch                    891 non-null int64\n",
      "Fare                     891 non-null float64\n",
      "title__Master            891 non-null uint8\n",
      "title__Miss              891 non-null uint8\n",
      "title__Mr                891 non-null uint8\n",
      "title__Mrs               891 non-null uint8\n",
      "title__Officer           891 non-null uint8\n",
      "title__Royalty           891 non-null uint8\n",
      "Age__(0.0902, 16.136]    891 non-null uint8\n",
      "Age__(16.136, 32.102]    891 non-null uint8\n",
      "Age__(32.102, 48.068]    891 non-null uint8\n",
      "Age__(48.068, 64.034]    891 non-null uint8\n",
      "Age__(64.034, 80.0]      891 non-null uint8\n",
      "family                   891 non-null float64\n",
      "Pclass_1                 891 non-null uint8\n",
      "Pclass_2                 891 non-null uint8\n",
      "Pclass_3                 891 non-null uint8\n",
      "Sex_female               891 non-null uint8\n",
      "Sex_male                 891 non-null uint8\n",
      "Embarked_C               891 non-null uint8\n",
      "Embarked_Q               891 non-null uint8\n",
      "Embarked_S               891 non-null uint8\n",
      "Cabin_No                 891 non-null uint8\n",
      "Cabin_Yes                891 non-null uint8\n",
      "child                    891 non-null int64\n",
      "mother                   891 non-null int64\n",
      "dtypes: float64(3), int64(4), uint8(21)\n",
      "memory usage: 74.0 KB\n"
     ]
    }
   ],
   "source": [
    "train_df_clean.info()"
   ]
  },
  {
   "cell_type": "code",
   "execution_count": 28,
   "metadata": {},
   "outputs": [
    {
     "data": {
      "text/plain": [
       "<matplotlib.axes._subplots.AxesSubplot at 0x7fc3211e24e0>"
      ]
     },
     "execution_count": 28,
     "metadata": {},
     "output_type": "execute_result"
    },
    {
     "data": {
      "image/png": "[encoded data removed]",
      "text/plain": [
       "<matplotlib.figure.Figure at 0x7fc3212eb240>"
      ]
     },
     "metadata": {},
     "output_type": "display_data"
    }
   ],
   "source": [
    "pd.crosstab(train_df.Survived, train_df.Sex).plot.bar(stacked=True)"
   ]
  },
  {
   "cell_type": "code",
   "execution_count": 70,
   "metadata": {},
   "outputs": [],
   "source": [
    "a = train_df.copy()\n",
    "a.loc[a.Cabin.notnull(), 'Cabin'] = a[a.Cabin.notnull()].Cabin.apply(lambda x: x[0])\n",
    "#a.loc[a[a.Cabin.notnull()].Cabin > 'G', 'Cabin'] = 'T'\n",
    "a.loc[a.Cabin > 'G', 'Cabin'] = 'T'"
   ]
  },
  {
   "cell_type": "code",
   "execution_count": 49,
   "metadata": {},
   "outputs": [
    {
     "data": {
      "text/plain": [
       "<matplotlib.axes._subplots.AxesSubplot at 0x7f31a0b79748>"
      ]
     },
     "execution_count": 49,
     "metadata": {},
     "output_type": "execute_result"
    },
    {
     "data": {
      "image/png": "[encoded data removed]",
      "text/plain": [
       "<matplotlib.figure.Figure at 0x7f31a0286ac8>"
      ]
     },
     "metadata": {},
     "output_type": "display_data"
    }
   ],
   "source": [
    "pd.crosstab(a.Cabin, a.Survived,).plot.bar(stacked=True)"
   ]
  },
  {
   "cell_type": "code",
   "execution_count": 56,
   "metadata": {},
   "outputs": [
    {
     "data": {
      "text/plain": [
       "C    35\n",
       "B    18\n",
       "D    13\n",
       "E     9\n",
       "F     8\n",
       "A     7\n",
       "G     1\n",
       "Name: Cabin, dtype: int64"
      ]
     },
     "execution_count": 56,
     "metadata": {},
     "output_type": "execute_result"
    }
   ],
   "source": [
    "test_df[test_df.Cabin.notnull()].Cabin.apply(lambda x: x[0]).value_counts()"
   ]
  },
  {
   "cell_type": "code",
   "execution_count": null,
   "metadata": {},
   "outputs": [],
   "source": []
  }
 ],
 "metadata": {
  "kernelspec": {
   "display_name": "Python 3",
   "language": "python",
   "name": "python3"
  },
  "language_info": {
   "codemirror_mode": {
    "name": "ipython",
    "version": 3
   },
   "file_extension": ".py",
   "mimetype": "text/x-python",
   "name": "python",
   "nbconvert_exporter": "python",
   "pygments_lexer": "ipython3",
   "version": "3.6.4"
  }
 },
 "nbformat": 4,
 "nbformat_minor": 2
}
